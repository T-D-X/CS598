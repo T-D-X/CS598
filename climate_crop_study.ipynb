{
 "cells": [
  {
   "cell_type": "markdown",
   "id": "411f408b",
   "metadata": {
    "vscode": {
     "languageId": "perl"
    }
   },
   "source": [
    "This Jupytr notebook "
   ]
  },
  {
   "cell_type": "code",
   "execution_count": null,
   "id": "0c8eb651",
   "metadata": {
    "vscode": {
     "languageId": "shellscript"
    }
   },
   "outputs": [],
   "source": [
    "# !/bin/sh\n",
    "\n",
    "# Install required Python packages\n",
    "python3 -m pip install -r requirements.txt"
   ]
  },
  {
   "cell_type": "code",
   "execution_count": null,
   "id": "ccf96be7",
   "metadata": {},
   "outputs": [],
   "source": [
    "import io\n",
    "import requests\n",
    "import pandas as pd\n",
    "import matplotlib.pyplot as plt"
   ]
  },
  {
   "cell_type": "markdown",
   "id": "4c68feb5",
   "metadata": {},
   "source": [
    "Constants for file locations and column mappings used in processing GHCND climate data."
   ]
  },
  {
   "cell_type": "code",
   "execution_count": null,
   "id": "d0fb3445",
   "metadata": {},
   "outputs": [],
   "source": [
    "\n",
    "# Constants to navigate the data\n",
    "STATE_CODE = \"IA\" # state code according to ghcnd-states.\n",
    "STATION_FILE_COLUMNS = [\"ID\", \"LATITUDE\", \"LONGITUDE\", \"ELEVATION\", \"STATE\", \"NAME\", \"GSN FLAG\", \"HCN/CRN FLAG\", \"WMO ID\"] # columns in ghcnd station file (from readme)\n",
    "STATION_DATA_COLUMN_MAPPING = {\n",
    "    \"ID\": [0,10],\n",
    "    \"YEAR\": [11,14],\n",
    "    \"MONTH\": [15,16],\n",
    "    \"ELEMENT\": [17,20],\n",
    "}\n",
    "\n",
    "# For downloading data\n",
    "GHCND_DOWNLOAD_LOCATION = \"https://www.ncei.noaa.gov/pub/data/ghcn/daily/all/{}.dly\" # location to download data files, format with station ID\n",
    "GHCND_STATION_FILE_LOCATION = \"https://www.ncei.noaa.gov/pub/data/ghcn/daily/ghcnd-stations.txt\" # location to download ghcnd station file\n",
    "\n",
    "# For predownloaded data\n",
    "GHCND_BASE_LOCATION = \"/data/climate_data\" # base location of ghcnd data files\n",
    "STATION_FILE = f\"{GHCND_BASE_LOCATION}/ghcnd-stations.csv\" # ghcnd station file\n",
    "OUTPUT_FILE = f\"{GHCND_BASE_LOCATION}/output/ghcnd-{STATE_CODE}-data.csv\" # output file for state data\n"
   ]
  },
  {
   "cell_type": "markdown",
   "id": "79dd2228",
   "metadata": {},
   "source": [
    "Pull data from DLV files"
   ]
  },
  {
   "cell_type": "code",
   "execution_count": null,
   "id": "8a8700c5",
   "metadata": {},
   "outputs": [],
   "source": [
    "def load_or_download_file(url, local_path):\n",
    "    \"\"\"Load a file from local path or download it if not present.\"\"\"\n",
    "    try:\n",
    "        with open(local_path, 'r') as f:\n",
    "            data = f.read()\n",
    "    except FileNotFoundError:\n",
    "        response = requests.get(url)\n",
    "        response.raise_for_status()\n",
    "        data = response.text\n",
    "        with open(local_path, 'w') as f:\n",
    "            f.write(data)\n",
    "    return data\n",
    "\n",
    "def dlv_to_df(dlv_file):\n",
    "    \"\"\"\n",
    "    Convert a DLV file to a pandas DataFrame.\n",
    "    1. Load entire DLV file into a DataFrame. With 1 single row per observation.\n",
    "    2. Split the first column into multiple columns based on fixed width.\n",
    "    3. Create dataframe with just the columns defined in STATION_DATA_COLUMN_MAPPING\n",
    "    4. Filter for ELEMENT = TMAX or TMIN by creating two separate dataframes and merging them on MONTH and YEAR.\n",
    "    5. Calculate TAVG as the average of TMAX and TMIN.\n",
    "    6. Return the final DataFrame.\n",
    "    \"\"\"\n",
    "    df = pd.read_csv(dlv_file, header=None)\n",
    "    for col_name, (start, end) in STATION_DATA_COLUMN_MAPPING.items():\n",
    "        df[col_name] = df[0].str[start:end].str.strip()\n",
    "    df = df[list(STATION_DATA_COLUMN_MAPPING.keys())]\n",
    "    tmax_df = df[df[\"ELEMENT\"] == \"TMAX\"][[\"YEAR\", \"MONTH\", \"ID\", \"ELEMENT\"]].rename(columns={\"ELEMENT\": \"TMAX\"})\n",
    "    tmin_df = df[df[\"ELEMENT\"] == \"TMIN\"][[\"YEAR\", \"MONTH\", \"ID\", \"ELEMENT\"]].rename(columns={\"ELEMENT\": \"TMIN\"})\n",
    "    df = pd.merge(tmax_df, tmin_df, on=[\"YEAR\", \"MONTH\", \"ID\"], how=\"outer\")\n",
    "    df[\"TAVG\"] = (df[\"TMAX\"].astype(float) + df[\"TMIN\"].astype(float)) / 2\n",
    "    return df\n",
    "\n",
    "def get_state_stations(state_code=STATE_CODE):\n",
    "    \"\"\"Get list of station IDs for the specified state.\"\"\"\n",
    "    station_file = load_or_download_file(\n",
    "        GHCND_STATION_FILE_LOCATION,\n",
    "        STATION_FILE\n",
    "    )\n",
    "    stations_df = pd.read_csv(station_file)\n",
    "    stations_df.columns = STATION_FILE_COLUMNS\n",
    "    state_stations_df = stations_df[stations_df[\"STATE\"] == state_code]\n",
    "    stations_list = state_stations_df[\"ID\"].tolist()\n",
    "    return stations_list\n",
    "\n",
    "def get_state_data(state_code=STATE_CODE):\n",
    "    \"\"\"Get climate data for the specified state.\"\"\"\n",
    "    stations_list = get_state_stations(state_code)\n",
    "    all_data_df = pd.DataFrame()\n",
    "    for station_id in stations_list:\n",
    "        dlv_file = load_or_download_file(\n",
    "            GHCND_DOWNLOAD_LOCATION.format(station_id),\n",
    "            f\"{GHCND_BASE_LOCATION}/ghcnd_gsn/{station_id}.dlv\"\n",
    "        )\n",
    "\n",
    "        try:\n",
    "            station_data_df = dlv_to_df(dlv_file)\n",
    "            all_data_df = pd.concat([all_data_df, station_data_df], ignore_index=True)\n",
    "        except FileNotFoundError:\n",
    "            print(f\"DLV file not found for station {station_id}, skipping.\")\n",
    "    return all_data_df\n",
    "\n",
    "def get_mean_temperature_per_year(state_code=STATE_CODE):\n",
    "    \"\"\"Get mean temperature per year for the specified state.\"\"\"\n",
    "    state_data_df = get_state_data(state_code)\n",
    "    mean_temp_per_year_df = state_data_df.groupby(\"YEAR\")[\"TAVG\"].mean().reset_index()\n",
    "    mean_temp_per_year_df.rename(columns={\"TAVG\": \"MEAN_TAVG\"}, inplace=True)\n",
    "    return mean_temp_per_year_df\n"
   ]
  },
  {
   "cell_type": "markdown",
   "id": "4fa90533",
   "metadata": {},
   "source": [
    "Pull data from crop.csv"
   ]
  },
  {
   "cell_type": "code",
   "execution_count": null,
   "id": "7e286919",
   "metadata": {},
   "outputs": [],
   "source": [
    "CROP_DATA_BASE_LOCATION = \"/data/crop_data\" # base location of crop data files\n",
    "STATE = \"IOWA\" # state name for crop data\n",
    "\n",
    "# For downloading data\n",
    "API_KEY = \"\"\n",
    "\n",
    "# For predownloaded data\n",
    "CROP_DATA_FILE = f\"{CROP_DATA_BASE_LOCATION}/crop.csv\" # crop data "
   ]
  },
  {
   "cell_type": "code",
   "execution_count": null,
   "id": "87cbf9fc",
   "metadata": {},
   "outputs": [],
   "source": [
    "def load_crop_data():\n",
    "    \"\"\"Load crop data from CSV file.\"\"\"\n",
    "    crop_df = pd.read_csv(CROP_DATA_FILE)\n",
    "    crop_df = crop_df[\n",
    "        (crop_df[\"period\"] == \"year\") &\\\n",
    "        (crop_df[\"state\"] == STATE) &\\\n",
    "        (crop_df[\"commodity\"] == \"CORN\")\n",
    "    ]\n",
    "    crop_df = crop_df[[\"year\", \"value\"]]\n",
    "    return crop_df"
   ]
  },
  {
   "cell_type": "markdown",
   "id": "386688e9",
   "metadata": {},
   "source": [
    "Merge the data into a single data frame"
   ]
  },
  {
   "cell_type": "code",
   "execution_count": null,
   "id": "b11c608b",
   "metadata": {},
   "outputs": [],
   "source": []
  },
  {
   "cell_type": "markdown",
   "id": "4755cbc6",
   "metadata": {},
   "source": [
    "Draw graphs based on the dataframe to compare averge temperatures to crop yield"
   ]
  },
  {
   "cell_type": "code",
   "execution_count": null,
   "metadata": {},
   "outputs": [],
   "source": []
  }
 ],
 "metadata": {
  "kernelspec": {
   "display_name": ".venv (3.11.3)",
   "language": "python",
   "name": "python3"
  },
  "language_info": {
   "codemirror_mode": {
    "name": "ipython",
    "version": 3
   },
   "file_extension": ".py",
   "mimetype": "text/x-python",
   "name": "python",
   "nbconvert_exporter": "python",
   "pygments_lexer": "ipython3",
   "version": "3.11.3"
  }
 },
 "nbformat": 4,
 "nbformat_minor": 5
}
