{
 "cells": [
  {
   "cell_type": "markdown",
   "id": "411f408b",
   "metadata": {
    "vscode": {
     "languageId": "perl"
    }
   },
   "source": [
    "This Jupytr notebook "
   ]
  },
  {
   "cell_type": "code",
   "execution_count": 8,
   "id": "0c8eb651",
   "metadata": {
    "vscode": {
     "languageId": "shellscript"
    }
   },
   "outputs": [
    {
     "name": "stdout",
     "output_type": "stream",
     "text": [
      "Requirement already satisfied: ipykernel in ./.venv/lib/python3.13/site-packages (from -r requirements.txt (line 1)) (7.0.1)\n",
      "Requirement already satisfied: notebook in ./.venv/lib/python3.13/site-packages (from -r requirements.txt (line 2)) (7.4.7)\n",
      "Requirement already satisfied: pandas in ./.venv/lib/python3.13/site-packages (from -r requirements.txt (line 3)) (2.3.3)\n",
      "Requirement already satisfied: matplotlib in ./.venv/lib/python3.13/site-packages (from -r requirements.txt (line 4)) (3.10.7)\n",
      "Requirement already satisfied: appnope>=0.1.2 in ./.venv/lib/python3.13/site-packages (from ipykernel->-r requirements.txt (line 1)) (0.1.4)\n",
      "Requirement already satisfied: comm>=0.1.1 in ./.venv/lib/python3.13/site-packages (from ipykernel->-r requirements.txt (line 1)) (0.2.3)\n",
      "Requirement already satisfied: debugpy>=1.6.5 in ./.venv/lib/python3.13/site-packages (from ipykernel->-r requirements.txt (line 1)) (1.8.17)\n",
      "Requirement already satisfied: ipython>=7.23.1 in ./.venv/lib/python3.13/site-packages (from ipykernel->-r requirements.txt (line 1)) (9.6.0)\n",
      "Requirement already satisfied: jupyter-client>=8.0.0 in ./.venv/lib/python3.13/site-packages (from ipykernel->-r requirements.txt (line 1)) (8.6.3)\n",
      "Requirement already satisfied: jupyter-core!=5.0.*,>=4.12 in ./.venv/lib/python3.13/site-packages (from ipykernel->-r requirements.txt (line 1)) (5.9.1)\n",
      "Requirement already satisfied: matplotlib-inline>=0.1 in ./.venv/lib/python3.13/site-packages (from ipykernel->-r requirements.txt (line 1)) (0.2.1)\n",
      "Requirement already satisfied: nest-asyncio>=1.4 in ./.venv/lib/python3.13/site-packages (from ipykernel->-r requirements.txt (line 1)) (1.6.0)\n",
      "Requirement already satisfied: packaging>=22 in ./.venv/lib/python3.13/site-packages (from ipykernel->-r requirements.txt (line 1)) (25.0)\n",
      "Requirement already satisfied: psutil>=5.7 in ./.venv/lib/python3.13/site-packages (from ipykernel->-r requirements.txt (line 1)) (7.1.2)\n",
      "Requirement already satisfied: pyzmq>=25 in ./.venv/lib/python3.13/site-packages (from ipykernel->-r requirements.txt (line 1)) (27.1.0)\n",
      "Requirement already satisfied: tornado>=6.2 in ./.venv/lib/python3.13/site-packages (from ipykernel->-r requirements.txt (line 1)) (6.5.2)\n",
      "Requirement already satisfied: traitlets>=5.4.0 in ./.venv/lib/python3.13/site-packages (from ipykernel->-r requirements.txt (line 1)) (5.14.3)\n",
      "Requirement already satisfied: jupyter-server<3,>=2.4.0 in ./.venv/lib/python3.13/site-packages (from notebook->-r requirements.txt (line 2)) (2.17.0)\n",
      "Requirement already satisfied: jupyterlab-server<3,>=2.27.1 in ./.venv/lib/python3.13/site-packages (from notebook->-r requirements.txt (line 2)) (2.28.0)\n",
      "Requirement already satisfied: jupyterlab<4.5,>=4.4.9 in ./.venv/lib/python3.13/site-packages (from notebook->-r requirements.txt (line 2)) (4.4.10)\n",
      "Requirement already satisfied: notebook-shim<0.3,>=0.2 in ./.venv/lib/python3.13/site-packages (from notebook->-r requirements.txt (line 2)) (0.2.4)\n",
      "Requirement already satisfied: anyio>=3.1.0 in ./.venv/lib/python3.13/site-packages (from jupyter-server<3,>=2.4.0->notebook->-r requirements.txt (line 2)) (4.11.0)\n",
      "Requirement already satisfied: argon2-cffi>=21.1 in ./.venv/lib/python3.13/site-packages (from jupyter-server<3,>=2.4.0->notebook->-r requirements.txt (line 2)) (25.1.0)\n",
      "Requirement already satisfied: jinja2>=3.0.3 in ./.venv/lib/python3.13/site-packages (from jupyter-server<3,>=2.4.0->notebook->-r requirements.txt (line 2)) (3.1.6)\n",
      "Requirement already satisfied: jupyter-events>=0.11.0 in ./.venv/lib/python3.13/site-packages (from jupyter-server<3,>=2.4.0->notebook->-r requirements.txt (line 2)) (0.12.0)\n",
      "Requirement already satisfied: jupyter-server-terminals>=0.4.4 in ./.venv/lib/python3.13/site-packages (from jupyter-server<3,>=2.4.0->notebook->-r requirements.txt (line 2)) (0.5.3)\n",
      "Requirement already satisfied: nbconvert>=6.4.4 in ./.venv/lib/python3.13/site-packages (from jupyter-server<3,>=2.4.0->notebook->-r requirements.txt (line 2)) (7.16.6)\n",
      "Requirement already satisfied: nbformat>=5.3.0 in ./.venv/lib/python3.13/site-packages (from jupyter-server<3,>=2.4.0->notebook->-r requirements.txt (line 2)) (5.10.4)\n",
      "Requirement already satisfied: prometheus-client>=0.9 in ./.venv/lib/python3.13/site-packages (from jupyter-server<3,>=2.4.0->notebook->-r requirements.txt (line 2)) (0.23.1)\n",
      "Requirement already satisfied: send2trash>=1.8.2 in ./.venv/lib/python3.13/site-packages (from jupyter-server<3,>=2.4.0->notebook->-r requirements.txt (line 2)) (1.8.3)\n",
      "Requirement already satisfied: terminado>=0.8.3 in ./.venv/lib/python3.13/site-packages (from jupyter-server<3,>=2.4.0->notebook->-r requirements.txt (line 2)) (0.18.1)\n",
      "Requirement already satisfied: websocket-client>=1.7 in ./.venv/lib/python3.13/site-packages (from jupyter-server<3,>=2.4.0->notebook->-r requirements.txt (line 2)) (1.9.0)\n",
      "Requirement already satisfied: async-lru>=1.0.0 in ./.venv/lib/python3.13/site-packages (from jupyterlab<4.5,>=4.4.9->notebook->-r requirements.txt (line 2)) (2.0.5)\n",
      "Requirement already satisfied: httpx<1,>=0.25.0 in ./.venv/lib/python3.13/site-packages (from jupyterlab<4.5,>=4.4.9->notebook->-r requirements.txt (line 2)) (0.28.1)\n",
      "Requirement already satisfied: jupyter-lsp>=2.0.0 in ./.venv/lib/python3.13/site-packages (from jupyterlab<4.5,>=4.4.9->notebook->-r requirements.txt (line 2)) (2.3.0)\n",
      "Requirement already satisfied: setuptools>=41.1.0 in ./.venv/lib/python3.13/site-packages (from jupyterlab<4.5,>=4.4.9->notebook->-r requirements.txt (line 2)) (80.9.0)\n",
      "Requirement already satisfied: certifi in ./.venv/lib/python3.13/site-packages (from httpx<1,>=0.25.0->jupyterlab<4.5,>=4.4.9->notebook->-r requirements.txt (line 2)) (2025.10.5)\n",
      "Requirement already satisfied: httpcore==1.* in ./.venv/lib/python3.13/site-packages (from httpx<1,>=0.25.0->jupyterlab<4.5,>=4.4.9->notebook->-r requirements.txt (line 2)) (1.0.9)\n",
      "Requirement already satisfied: idna in ./.venv/lib/python3.13/site-packages (from httpx<1,>=0.25.0->jupyterlab<4.5,>=4.4.9->notebook->-r requirements.txt (line 2)) (3.11)\n",
      "Requirement already satisfied: h11>=0.16 in ./.venv/lib/python3.13/site-packages (from httpcore==1.*->httpx<1,>=0.25.0->jupyterlab<4.5,>=4.4.9->notebook->-r requirements.txt (line 2)) (0.16.0)\n",
      "Requirement already satisfied: babel>=2.10 in ./.venv/lib/python3.13/site-packages (from jupyterlab-server<3,>=2.27.1->notebook->-r requirements.txt (line 2)) (2.17.0)\n",
      "Requirement already satisfied: json5>=0.9.0 in ./.venv/lib/python3.13/site-packages (from jupyterlab-server<3,>=2.27.1->notebook->-r requirements.txt (line 2)) (0.12.1)\n",
      "Requirement already satisfied: jsonschema>=4.18.0 in ./.venv/lib/python3.13/site-packages (from jupyterlab-server<3,>=2.27.1->notebook->-r requirements.txt (line 2)) (4.25.1)\n",
      "Requirement already satisfied: requests>=2.31 in ./.venv/lib/python3.13/site-packages (from jupyterlab-server<3,>=2.27.1->notebook->-r requirements.txt (line 2)) (2.32.5)\n",
      "Requirement already satisfied: numpy>=1.26.0 in ./.venv/lib/python3.13/site-packages (from pandas->-r requirements.txt (line 3)) (2.3.4)\n",
      "Requirement already satisfied: python-dateutil>=2.8.2 in ./.venv/lib/python3.13/site-packages (from pandas->-r requirements.txt (line 3)) (2.9.0.post0)\n",
      "Requirement already satisfied: pytz>=2020.1 in ./.venv/lib/python3.13/site-packages (from pandas->-r requirements.txt (line 3)) (2025.2)\n",
      "Requirement already satisfied: tzdata>=2022.7 in ./.venv/lib/python3.13/site-packages (from pandas->-r requirements.txt (line 3)) (2025.2)\n",
      "Requirement already satisfied: contourpy>=1.0.1 in ./.venv/lib/python3.13/site-packages (from matplotlib->-r requirements.txt (line 4)) (1.3.3)\n",
      "Requirement already satisfied: cycler>=0.10 in ./.venv/lib/python3.13/site-packages (from matplotlib->-r requirements.txt (line 4)) (0.12.1)\n",
      "Requirement already satisfied: fonttools>=4.22.0 in ./.venv/lib/python3.13/site-packages (from matplotlib->-r requirements.txt (line 4)) (4.60.1)\n",
      "Requirement already satisfied: kiwisolver>=1.3.1 in ./.venv/lib/python3.13/site-packages (from matplotlib->-r requirements.txt (line 4)) (1.4.9)\n",
      "Requirement already satisfied: pillow>=8 in ./.venv/lib/python3.13/site-packages (from matplotlib->-r requirements.txt (line 4)) (12.0.0)\n",
      "Requirement already satisfied: pyparsing>=3 in ./.venv/lib/python3.13/site-packages (from matplotlib->-r requirements.txt (line 4)) (3.2.5)\n",
      "Requirement already satisfied: sniffio>=1.1 in ./.venv/lib/python3.13/site-packages (from anyio>=3.1.0->jupyter-server<3,>=2.4.0->notebook->-r requirements.txt (line 2)) (1.3.1)\n",
      "Requirement already satisfied: argon2-cffi-bindings in ./.venv/lib/python3.13/site-packages (from argon2-cffi>=21.1->jupyter-server<3,>=2.4.0->notebook->-r requirements.txt (line 2)) (25.1.0)\n",
      "Requirement already satisfied: decorator in ./.venv/lib/python3.13/site-packages (from ipython>=7.23.1->ipykernel->-r requirements.txt (line 1)) (5.2.1)\n",
      "Requirement already satisfied: ipython-pygments-lexers in ./.venv/lib/python3.13/site-packages (from ipython>=7.23.1->ipykernel->-r requirements.txt (line 1)) (1.1.1)\n",
      "Requirement already satisfied: jedi>=0.16 in ./.venv/lib/python3.13/site-packages (from ipython>=7.23.1->ipykernel->-r requirements.txt (line 1)) (0.19.2)\n",
      "Requirement already satisfied: pexpect>4.3 in ./.venv/lib/python3.13/site-packages (from ipython>=7.23.1->ipykernel->-r requirements.txt (line 1)) (4.9.0)\n",
      "Requirement already satisfied: prompt_toolkit<3.1.0,>=3.0.41 in ./.venv/lib/python3.13/site-packages (from ipython>=7.23.1->ipykernel->-r requirements.txt (line 1)) (3.0.52)\n",
      "Requirement already satisfied: pygments>=2.4.0 in ./.venv/lib/python3.13/site-packages (from ipython>=7.23.1->ipykernel->-r requirements.txt (line 1)) (2.19.2)\n",
      "Requirement already satisfied: stack_data in ./.venv/lib/python3.13/site-packages (from ipython>=7.23.1->ipykernel->-r requirements.txt (line 1)) (0.6.3)\n",
      "Requirement already satisfied: wcwidth in ./.venv/lib/python3.13/site-packages (from prompt_toolkit<3.1.0,>=3.0.41->ipython>=7.23.1->ipykernel->-r requirements.txt (line 1)) (0.2.14)\n",
      "Requirement already satisfied: parso<0.9.0,>=0.8.4 in ./.venv/lib/python3.13/site-packages (from jedi>=0.16->ipython>=7.23.1->ipykernel->-r requirements.txt (line 1)) (0.8.5)\n",
      "Requirement already satisfied: MarkupSafe>=2.0 in ./.venv/lib/python3.13/site-packages (from jinja2>=3.0.3->jupyter-server<3,>=2.4.0->notebook->-r requirements.txt (line 2)) (3.0.3)\n",
      "Requirement already satisfied: attrs>=22.2.0 in ./.venv/lib/python3.13/site-packages (from jsonschema>=4.18.0->jupyterlab-server<3,>=2.27.1->notebook->-r requirements.txt (line 2)) (25.4.0)\n",
      "Requirement already satisfied: jsonschema-specifications>=2023.03.6 in ./.venv/lib/python3.13/site-packages (from jsonschema>=4.18.0->jupyterlab-server<3,>=2.27.1->notebook->-r requirements.txt (line 2)) (2025.9.1)\n",
      "Requirement already satisfied: referencing>=0.28.4 in ./.venv/lib/python3.13/site-packages (from jsonschema>=4.18.0->jupyterlab-server<3,>=2.27.1->notebook->-r requirements.txt (line 2)) (0.37.0)\n",
      "Requirement already satisfied: rpds-py>=0.7.1 in ./.venv/lib/python3.13/site-packages (from jsonschema>=4.18.0->jupyterlab-server<3,>=2.27.1->notebook->-r requirements.txt (line 2)) (0.28.0)\n",
      "Requirement already satisfied: platformdirs>=2.5 in ./.venv/lib/python3.13/site-packages (from jupyter-core!=5.0.*,>=4.12->ipykernel->-r requirements.txt (line 1)) (4.5.0)\n",
      "Requirement already satisfied: python-json-logger>=2.0.4 in ./.venv/lib/python3.13/site-packages (from jupyter-events>=0.11.0->jupyter-server<3,>=2.4.0->notebook->-r requirements.txt (line 2)) (4.0.0)\n",
      "Requirement already satisfied: pyyaml>=5.3 in ./.venv/lib/python3.13/site-packages (from jupyter-events>=0.11.0->jupyter-server<3,>=2.4.0->notebook->-r requirements.txt (line 2)) (6.0.3)\n",
      "Requirement already satisfied: rfc3339-validator in ./.venv/lib/python3.13/site-packages (from jupyter-events>=0.11.0->jupyter-server<3,>=2.4.0->notebook->-r requirements.txt (line 2)) (0.1.4)\n",
      "Requirement already satisfied: rfc3986-validator>=0.1.1 in ./.venv/lib/python3.13/site-packages (from jupyter-events>=0.11.0->jupyter-server<3,>=2.4.0->notebook->-r requirements.txt (line 2)) (0.1.1)\n",
      "Requirement already satisfied: fqdn in ./.venv/lib/python3.13/site-packages (from jsonschema[format-nongpl]>=4.18.0->jupyter-events>=0.11.0->jupyter-server<3,>=2.4.0->notebook->-r requirements.txt (line 2)) (1.5.1)\n",
      "Requirement already satisfied: isoduration in ./.venv/lib/python3.13/site-packages (from jsonschema[format-nongpl]>=4.18.0->jupyter-events>=0.11.0->jupyter-server<3,>=2.4.0->notebook->-r requirements.txt (line 2)) (20.11.0)\n",
      "Requirement already satisfied: jsonpointer>1.13 in ./.venv/lib/python3.13/site-packages (from jsonschema[format-nongpl]>=4.18.0->jupyter-events>=0.11.0->jupyter-server<3,>=2.4.0->notebook->-r requirements.txt (line 2)) (3.0.0)\n",
      "Requirement already satisfied: rfc3987-syntax>=1.1.0 in ./.venv/lib/python3.13/site-packages (from jsonschema[format-nongpl]>=4.18.0->jupyter-events>=0.11.0->jupyter-server<3,>=2.4.0->notebook->-r requirements.txt (line 2)) (1.1.0)\n",
      "Requirement already satisfied: uri-template in ./.venv/lib/python3.13/site-packages (from jsonschema[format-nongpl]>=4.18.0->jupyter-events>=0.11.0->jupyter-server<3,>=2.4.0->notebook->-r requirements.txt (line 2)) (1.3.0)\n",
      "Requirement already satisfied: webcolors>=24.6.0 in ./.venv/lib/python3.13/site-packages (from jsonschema[format-nongpl]>=4.18.0->jupyter-events>=0.11.0->jupyter-server<3,>=2.4.0->notebook->-r requirements.txt (line 2)) (24.11.1)\n",
      "Requirement already satisfied: beautifulsoup4 in ./.venv/lib/python3.13/site-packages (from nbconvert>=6.4.4->jupyter-server<3,>=2.4.0->notebook->-r requirements.txt (line 2)) (4.14.2)\n",
      "Requirement already satisfied: bleach!=5.0.0 in ./.venv/lib/python3.13/site-packages (from bleach[css]!=5.0.0->nbconvert>=6.4.4->jupyter-server<3,>=2.4.0->notebook->-r requirements.txt (line 2)) (6.2.0)\n",
      "Requirement already satisfied: defusedxml in ./.venv/lib/python3.13/site-packages (from nbconvert>=6.4.4->jupyter-server<3,>=2.4.0->notebook->-r requirements.txt (line 2)) (0.7.1)\n",
      "Requirement already satisfied: jupyterlab-pygments in ./.venv/lib/python3.13/site-packages (from nbconvert>=6.4.4->jupyter-server<3,>=2.4.0->notebook->-r requirements.txt (line 2)) (0.3.0)\n",
      "Requirement already satisfied: mistune<4,>=2.0.3 in ./.venv/lib/python3.13/site-packages (from nbconvert>=6.4.4->jupyter-server<3,>=2.4.0->notebook->-r requirements.txt (line 2)) (3.1.4)\n",
      "Requirement already satisfied: nbclient>=0.5.0 in ./.venv/lib/python3.13/site-packages (from nbconvert>=6.4.4->jupyter-server<3,>=2.4.0->notebook->-r requirements.txt (line 2)) (0.10.2)\n",
      "Requirement already satisfied: pandocfilters>=1.4.1 in ./.venv/lib/python3.13/site-packages (from nbconvert>=6.4.4->jupyter-server<3,>=2.4.0->notebook->-r requirements.txt (line 2)) (1.5.1)\n",
      "Requirement already satisfied: webencodings in ./.venv/lib/python3.13/site-packages (from bleach!=5.0.0->bleach[css]!=5.0.0->nbconvert>=6.4.4->jupyter-server<3,>=2.4.0->notebook->-r requirements.txt (line 2)) (0.5.1)\n",
      "Requirement already satisfied: tinycss2<1.5,>=1.1.0 in ./.venv/lib/python3.13/site-packages (from bleach[css]!=5.0.0->nbconvert>=6.4.4->jupyter-server<3,>=2.4.0->notebook->-r requirements.txt (line 2)) (1.4.0)\n",
      "Requirement already satisfied: fastjsonschema>=2.15 in ./.venv/lib/python3.13/site-packages (from nbformat>=5.3.0->jupyter-server<3,>=2.4.0->notebook->-r requirements.txt (line 2)) (2.21.2)\n",
      "Requirement already satisfied: ptyprocess>=0.5 in ./.venv/lib/python3.13/site-packages (from pexpect>4.3->ipython>=7.23.1->ipykernel->-r requirements.txt (line 1)) (0.7.0)\n",
      "Requirement already satisfied: six>=1.5 in ./.venv/lib/python3.13/site-packages (from python-dateutil>=2.8.2->pandas->-r requirements.txt (line 3)) (1.17.0)\n",
      "Requirement already satisfied: charset_normalizer<4,>=2 in ./.venv/lib/python3.13/site-packages (from requests>=2.31->jupyterlab-server<3,>=2.27.1->notebook->-r requirements.txt (line 2)) (3.4.4)\n",
      "Requirement already satisfied: urllib3<3,>=1.21.1 in ./.venv/lib/python3.13/site-packages (from requests>=2.31->jupyterlab-server<3,>=2.27.1->notebook->-r requirements.txt (line 2)) (2.5.0)\n",
      "Requirement already satisfied: lark>=1.2.2 in ./.venv/lib/python3.13/site-packages (from rfc3987-syntax>=1.1.0->jsonschema[format-nongpl]>=4.18.0->jupyter-events>=0.11.0->jupyter-server<3,>=2.4.0->notebook->-r requirements.txt (line 2)) (1.3.0)\n",
      "Requirement already satisfied: cffi>=1.0.1 in ./.venv/lib/python3.13/site-packages (from argon2-cffi-bindings->argon2-cffi>=21.1->jupyter-server<3,>=2.4.0->notebook->-r requirements.txt (line 2)) (2.0.0)\n",
      "Requirement already satisfied: pycparser in ./.venv/lib/python3.13/site-packages (from cffi>=1.0.1->argon2-cffi-bindings->argon2-cffi>=21.1->jupyter-server<3,>=2.4.0->notebook->-r requirements.txt (line 2)) (2.23)\n",
      "Requirement already satisfied: soupsieve>1.2 in ./.venv/lib/python3.13/site-packages (from beautifulsoup4->nbconvert>=6.4.4->jupyter-server<3,>=2.4.0->notebook->-r requirements.txt (line 2)) (2.8)\n",
      "Requirement already satisfied: typing-extensions>=4.0.0 in ./.venv/lib/python3.13/site-packages (from beautifulsoup4->nbconvert>=6.4.4->jupyter-server<3,>=2.4.0->notebook->-r requirements.txt (line 2)) (4.15.0)\n",
      "Requirement already satisfied: arrow>=0.15.0 in ./.venv/lib/python3.13/site-packages (from isoduration->jsonschema[format-nongpl]>=4.18.0->jupyter-events>=0.11.0->jupyter-server<3,>=2.4.0->notebook->-r requirements.txt (line 2)) (1.4.0)\n",
      "Requirement already satisfied: executing>=1.2.0 in ./.venv/lib/python3.13/site-packages (from stack_data->ipython>=7.23.1->ipykernel->-r requirements.txt (line 1)) (2.2.1)\n",
      "Requirement already satisfied: asttokens>=2.1.0 in ./.venv/lib/python3.13/site-packages (from stack_data->ipython>=7.23.1->ipykernel->-r requirements.txt (line 1)) (3.0.0)\n",
      "Requirement already satisfied: pure-eval in ./.venv/lib/python3.13/site-packages (from stack_data->ipython>=7.23.1->ipykernel->-r requirements.txt (line 1)) (0.2.3)\n"
     ]
    }
   ],
   "source": [
    "# !/bin/sh\n",
    "\n",
    "# Install required Python packages\n",
    "!python3 -m pip install -r requirements.txt"
   ]
  },
  {
   "cell_type": "code",
   "execution_count": null,
   "id": "ccf96be7",
   "metadata": {},
   "outputs": [
    {
     "ename": "ModuleNotFoundError",
     "evalue": "No module named 'pandas'",
     "output_type": "error",
     "traceback": [
      "\u001b[31m---------------------------------------------------------------------------\u001b[39m",
      "\u001b[31mModuleNotFoundError\u001b[39m                       Traceback (most recent call last)",
      "\u001b[36mCell\u001b[39m\u001b[36m \u001b[39m\u001b[32mIn[6]\u001b[39m\u001b[32m, line 1\u001b[39m\n\u001b[32m----> \u001b[39m\u001b[32m1\u001b[39m \u001b[38;5;28;01mimport\u001b[39;00m\u001b[38;5;250m \u001b[39m\u001b[34;01mpandas\u001b[39;00m\u001b[38;5;250m \u001b[39m\u001b[38;5;28;01mas\u001b[39;00m\u001b[38;5;250m \u001b[39m\u001b[34;01mpd\u001b[39;00m\n\u001b[32m      2\u001b[39m \u001b[38;5;28;01mimport\u001b[39;00m\u001b[38;5;250m \u001b[39m\u001b[34;01mmatplotlib\u001b[39;00m\u001b[34;01m.\u001b[39;00m\u001b[34;01mpyplot\u001b[39;00m\u001b[38;5;250m \u001b[39m\u001b[38;5;28;01mas\u001b[39;00m\u001b[38;5;250m \u001b[39m\u001b[34;01mplt\u001b[39;00m\n",
      "\u001b[31mModuleNotFoundError\u001b[39m: No module named 'pandas'"
     ]
    }
   ],
   "source": [
    "import requests\n",
    "import builtins\n",
    "import pandas as pd\n",
    "from pathlib import Path\n",
    "import matplotlib.pyplot as plt"
   ]
  },
  {
   "cell_type": "markdown",
   "id": "4c68feb5",
   "metadata": {},
   "source": [
    "Constants for file locations and column mappings used in processing GHCND climate data."
   ]
  },
  {
   "cell_type": "code",
   "execution_count": 80,
   "id": "d0fb3445",
   "metadata": {},
   "outputs": [],
   "source": [
    "\n",
    "# Constants to navigate the data\n",
    "STATE_CODE = \"IA\" # state code according to ghcnd-states.\n",
    "# Sample row: \"CA001039040  50.0333 -126.8167   91.0 BC ZEBALLOS IRON MINES\"\n",
    "STATION_FILE_COLUMNS_MAPPING = {\n",
    "    \"ID\": [0, 11],\n",
    "    \"STATE\": [38, 40],\n",
    "}\n",
    "STATION_DATA_COLUMN_MAPPING = {\n",
    "    \"ID\": [0, 10],\n",
    "    \"YEAR\": [11, 14],\n",
    "    \"MONTH\": [15, 16],\n",
    "    \"ELEMENT\": [17, 20],\n",
    "}\n",
    "\n",
    "# For downloading data\n",
    "GHCND_DOWNLOAD_LOCATION = \"https://www.ncei.noaa.gov/pub/data/ghcn/daily/all/{}.dly\" # location to download data files, format with station ID\n",
    "GHCND_STATION_FILE_LOCATION = \"https://www.ncei.noaa.gov/pub/data/ghcn/daily/ghcnd-stations.txt\" # location to download ghcnd station file\n",
    "\n",
    "# For predownloaded data\n",
    "GHCND_BASE_LOCATION = \"./data/climate_data\" # base location of ghcnd data files\n",
    "STATION_FILE = f\"{GHCND_BASE_LOCATION}/raw_data/ghcnd-stations.txt\" # ghcnd station file\n",
    "GHCND_OUTPUT_FILE = f\"{GHCND_BASE_LOCATION}/processed/ghcnd-{STATE_CODE}-data.csv\" # output file for state data\n"
   ]
  },
  {
   "cell_type": "markdown",
   "id": "79dd2228",
   "metadata": {},
   "source": [
    "Pull data from DLV files"
   ]
  },
  {
   "cell_type": "code",
   "execution_count": 83,
   "id": "8a8700c5",
   "metadata": {},
   "outputs": [],
   "source": [
    "def load_or_download_file(url, local_path):\n",
    "    \"\"\"Load a file from local path or download it if not present.\"\"\"\n",
    "    try:\n",
    "        f = builtins.open(local_path, 'r')\n",
    "        file_data = (line for line in f)\n",
    "        df = pd.DataFrame(file_data, columns=[\"line\"])\n",
    "        f.close()\n",
    "    except FileNotFoundError:\n",
    "        response = requests.get(url)\n",
    "        response.raise_for_status()\n",
    "        data = response.text\n",
    "        file_path = Path(local_path)\n",
    "        file_path.parent.mkdir(parents=True, exist_ok=True)\n",
    "        with builtins.open(local_path, 'w') as f:\n",
    "            f.write(data)\n",
    "\n",
    "        f = builtins.open(local_path, 'r')\n",
    "        file_data = (line for line in f)\n",
    "        df = pd.DataFrame(file_data, columns=[\"line\"])\n",
    "        f.close()\n",
    "\n",
    "    return df\n",
    "\n",
    "def dlv_to_filtered_df(df):\n",
    "    \"\"\"\n",
    "    Convert a DLV file to a pandas DataFrame.\n",
    "    1. Load entire DLV file into a DataFrame. With 1 single row per observation.\n",
    "    2. Split the first column into multiple columns based on fixed width.\n",
    "    3. Create dataframe with just the columns defined in STATION_DATA_COLUMN_MAPPING\n",
    "    4. Filter for ELEMENT = TMAX or TMIN by creating two separate dataframes and merging them on MONTH and YEAR.\n",
    "    5. Calculate TAVG as the average of TMAX and TMIN.\n",
    "    6. Return the final DataFrame.\n",
    "    \"\"\"\n",
    "    for col_name, (start, end) in STATION_DATA_COLUMN_MAPPING.items():\n",
    "        df[col_name] = df[\"line\"].str[start:end].str.strip()\n",
    "    df = df[list(STATION_DATA_COLUMN_MAPPING.keys())]\n",
    "    tmax_df = df[df[\"ELEMENT\"] == \"TMAX\"][[\"YEAR\", \"MONTH\", \"ID\", \"ELEMENT\"]].rename(columns={\"ELEMENT\": \"TMAX\"})\n",
    "    tmin_df = df[df[\"ELEMENT\"] == \"TMIN\"][[\"YEAR\", \"MONTH\", \"ID\", \"ELEMENT\"]].rename(columns={\"ELEMENT\": \"TMIN\"})\n",
    "    df = pd.merge(tmax_df, tmin_df, on=[\"YEAR\", \"MONTH\", \"ID\"], how=\"outer\")\n",
    "    df[\"TAVG\"] = (df[\"TMAX\"].astype(float) + df[\"TMIN\"].astype(float)) / 2\n",
    "    return df\n",
    "\n",
    "def get_state_stations(state_code=STATE_CODE):\n",
    "    \"\"\"Get list of station IDs for the specified state.\"\"\"\n",
    "    df = load_or_download_file(\n",
    "        GHCND_STATION_FILE_LOCATION,\n",
    "        STATION_FILE\n",
    "    )\n",
    "    for col_name, (start, end) in STATION_FILE_COLUMNS_MAPPING.items():\n",
    "        df[col_name] = df[\"line\"].str[start:end].str.strip()\n",
    "    stations_df = df[list(STATION_FILE_COLUMNS_MAPPING.keys())]\n",
    "    state_stations_df = stations_df[stations_df[\"STATE\"] == state_code]\n",
    "    stations_list = state_stations_df[\"ID\"].tolist()\n",
    "    return stations_list\n",
    "\n",
    "def get_state_data(state_code=STATE_CODE):\n",
    "    \"\"\"Get climate data for the specified state.\"\"\"\n",
    "    stations_list = get_state_stations(state_code)\n",
    "    all_data_df = pd.DataFrame()\n",
    "    for station_id in stations_list:\n",
    "        station_data_df = load_or_download_file(\n",
    "            GHCND_DOWNLOAD_LOCATION.format(station_id),\n",
    "            f\"{GHCND_BASE_LOCATION}/raw_data/ghcnd_gsn/{station_id}.dlv\"\n",
    "        )\n",
    "\n",
    "        try:\n",
    "            station_data_df = dlv_to_filtered_df(station_data_df)\n",
    "            all_data_df = pd.concat([all_data_df, station_data_df], ignore_index=True)\n",
    "        except FileNotFoundError:\n",
    "            print(f\"DLV file not found for station {station_id}, skipping.\")\n",
    "    return all_data_df\n",
    "\n",
    "def get_mean_temperature_per_year(state_code=STATE_CODE):\n",
    "    \"\"\"Get mean temperature per year for the specified state.\"\"\"\n",
    "    try:\n",
    "        file_path = Path(GHCND_OUTPUT_FILE)\n",
    "        file_path.parent.mkdir(parents=True, exist_ok=True)        \n",
    "        \n",
    "        mean_temp_per_year_df = pd.read_csv(GHCND_OUTPUT_FILE)\n",
    "    except FileNotFoundError:\n",
    "        state_data_df = get_state_data(state_code)\n",
    "        mean_temp_per_year_df = state_data_df.groupby(\"YEAR\")[\"TAVG\"].mean().reset_index()\n",
    "        mean_temp_per_year_df.rename(columns={\"TAVG\": \"MEAN_TAVG\"}, inplace=True)\n",
    "        mean_temp_per_year_df.to_csv(GHCND_OUTPUT_FILE, index=False)\n",
    "    return mean_temp_per_year_df\n",
    "\n",
    "mean_temperature_per_year_df = get_mean_temperature_per_year()\n",
    "\n"
   ]
  },
  {
   "cell_type": "markdown",
   "id": "4fa90533",
   "metadata": {},
   "source": [
    "Pull data from crop.csv"
   ]
  },
  {
   "cell_type": "code",
   "execution_count": 78,
   "id": "7e286919",
   "metadata": {},
   "outputs": [],
   "source": [
    "CROP_DATA_BASE_LOCATION = \"./data/crop_data\" # base location of crop data files\n",
    "STATE = \"IOWA\" # state name for crop data\n",
    "\n",
    "# For predownloaded data\n",
    "CROP_DATA_FILE = f\"{CROP_DATA_BASE_LOCATION}/raw_data/corn.csv\" # crop data\n",
    "CROP_OUTPUT_FILE = f\"{CROP_DATA_BASE_LOCATION}/processed/crop.csv\" # output file for crop data"
   ]
  },
  {
   "cell_type": "code",
   "execution_count": 79,
   "id": "87cbf9fc",
   "metadata": {},
   "outputs": [],
   "source": [
    "def load_crop_data():\n",
    "    \"\"\"Load crop data from CSV file.\"\"\"\n",
    "    try:\n",
    "        crop_df = pd.read_csv(CROP_OUTPUT_FILE)\n",
    "    except FileNotFoundError:\n",
    "        crop_df = pd.read_csv(CROP_DATA_FILE, header=0)\n",
    "        crop_df = crop_df[\n",
    "            (crop_df[\"Period\"] == \"YEAR\") &\\\n",
    "            (crop_df[\"State\"] == STATE) &\\\n",
    "            (crop_df[\"Commodity\"] == \"CORN\")\n",
    "        ]\n",
    "        crop_df = crop_df[[\"Year\", \"Value\"]]\n",
    "\n",
    "        file_path = Path(CROP_OUTPUT_FILE)\n",
    "        file_path.parent.mkdir(parents=True, exist_ok=True)        \n",
    "        crop_data_df.to_csv(CROP_OUTPUT_FILE, index=False)\n",
    "    return crop_df\n",
    "\n",
    "crop_data_df = load_crop_data()"
   ]
  },
  {
   "cell_type": "markdown",
   "id": "386688e9",
   "metadata": {},
   "source": [
    "Merge the data into a single data frame"
   ]
  },
  {
   "cell_type": "code",
   "execution_count": null,
   "id": "b11c608b",
   "metadata": {},
   "outputs": [],
   "source": []
  },
  {
   "cell_type": "markdown",
   "id": "4755cbc6",
   "metadata": {},
   "source": [
    "Draw graphs based on the dataframe to compare averge temperatures to crop yield"
   ]
  },
  {
   "cell_type": "code",
   "execution_count": null,
   "metadata": {},
   "outputs": [],
   "source": []
  }
 ],
 "metadata": {
  "kernelspec": {
   "display_name": ".venv",
   "language": "python",
   "name": "python3"
  },
  "language_info": {
   "codemirror_mode": {
    "name": "ipython",
    "version": 3
   },
   "file_extension": ".py",
   "mimetype": "text/x-python",
   "name": "python",
   "nbconvert_exporter": "python",
   "pygments_lexer": "ipython3",
   "version": "3.13.5"
  }
 },
 "nbformat": 4,
 "nbformat_minor": 5
}
